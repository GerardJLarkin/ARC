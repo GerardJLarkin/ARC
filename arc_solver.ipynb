{
  "nbformat": 4,
  "nbformat_minor": 0,
  "metadata": {
    "colab": {
      "name": "arc_solver.ipynb",
      "provenance": [],
      "collapsed_sections": [],
      "authorship_tag": "ABX9TyMvJaNThbAD57LYS7VUXoYW",
      "include_colab_link": true
    },
    "kernelspec": {
      "name": "python3",
      "display_name": "Python 3"
    }
  },
  "cells": [
    {
      "cell_type": "markdown",
      "metadata": {
        "id": "view-in-github",
        "colab_type": "text"
      },
      "source": [
        "<a href=\"https://colab.research.google.com/github/GerardJLarkin/ARC/blob/develop/arc_solver.ipynb\" target=\"_parent\"><img src=\"https://colab.research.google.com/assets/colab-badge.svg\" alt=\"Open In Colab\"/></a>"
      ]
    },
    {
      "cell_type": "code",
      "metadata": {
        "id": "EtdkFTrrgygA"
      },
      "source": [
        "#### I kpet getting errors attempting to import the .json file in the training data\r\n",
        "#import pandas as pd\r\n",
        "#data_1 = pd.read_json((r\"https://github.com/GerardJLarkin/ARC/tree/develop/data/training/fcc82909.json\"), lines=True, orient='records')\r\n",
        "#data_1\r\n",
        "#f = open(r\"C:\\Users\\33271\\Downloads\\PTAI\\ARC\\data\\training\\fcc82909.json\", \"r\")\r\n",
        "#print(f.read())"
      ],
      "execution_count": null,
      "outputs": []
    },
    {
      "cell_type": "code",
      "metadata": {
        "colab": {
          "base_uri": "https://localhost:8080/"
        },
        "id": "TxtrWM-kqOPo",
        "outputId": "2683f3ac-c412-402e-f6a6-9a1bf11fd5a3"
      },
      "source": [
        "# It apppears therefore that I have to manually add each file.\r\n",
        "data = {\"train\": [{\"input\": [[3, 3, 3, 3, 3, 3], [9, 9, 9, 9, 9, 9]], \r\n",
        "            \"output\": [[3, 9, 3, 9, 3, 9], [9, 3, 9, 3, 9, 3]]}, \r\n",
        "           {\"input\": [[4, 4, 4, 4, 4, 4], [8, 8, 8, 8, 8, 8]], \r\n",
        "            \"output\": [[4, 8, 4, 8, 4, 8], [8, 4, 8, 4, 8, 4]]}], \r\n",
        "       \"test\": [{\"input\": [[6, 6, 6, 6, 6, 6], [2, 2, 2, 2, 2, 2]], \r\n",
        "           \"output\": [[6, 2, 6, 2, 6, 2], [2, 6, 2, 6, 2, 6]]}]}\r\n",
        "\r\n",
        "print(type(data))\r\n",
        "\r\n",
        "#def solve_6a1e5592(x):\r\n",
        "#    return x"
      ],
      "execution_count": 1,
      "outputs": [
        {
          "output_type": "stream",
          "text": [
            "<class 'dict'>\n"
          ],
          "name": "stdout"
        }
      ]
    },
    {
      "cell_type": "code",
      "metadata": {
        "colab": {
          "base_uri": "https://localhost:8080/"
        },
        "id": "uslwDdSlAUGv",
        "outputId": "0446a016-9cd7-4966-e898-9015244cb61f"
      },
      "source": [
        "#a0 = data.values()\r\n",
        "#a1 = [data[k] for k in data]\r\n",
        "#a2 = [data[k] for k in data][0]\r\n",
        "a3 = [data[k] for k in data][0][0]\r\n",
        "a4 = [data[k] for k in data][0][1]\r\n",
        "#a4 = [data[k] for k in data][0][0].values()\r\n",
        "#a5 = [data[k] for k in data][0][1].values()\r\n",
        "#a6 = [data[k] for k in data][1][0].values()\r\n",
        "#print(a0)\r\n",
        "#print(a1)\r\n",
        "#print(a2)\r\n",
        "print(a3)\r\n",
        "print(a4)\r\n",
        "#print(a5)\r\n",
        "#print(list(a6)[0][1])"
      ],
      "execution_count": null,
      "outputs": [
        {
          "output_type": "stream",
          "text": [
            "{'input': [[3, 3, 3, 3, 3, 3], [9, 9, 9, 9, 9, 9]], 'output': [[3, 9, 3, 9, 3, 9], [9, 3, 9, 3, 9, 3]]}\n",
            "{'input': [[4, 4, 4, 4, 4, 4], [8, 8, 8, 8, 8, 8]], 'output': [[4, 8, 4, 8, 4, 8], [8, 4, 8, 4, 8, 4]]}\n"
          ],
          "name": "stdout"
        }
      ]
    },
    {
      "cell_type": "code",
      "metadata": {
        "colab": {
          "base_uri": "https://localhost:8080/"
        },
        "id": "eoyPqpSTYCjH",
        "outputId": "3a499637-c2ca-4629-e40e-afb182f9da31"
      },
      "source": [
        "for i in [data[k] for k in data][0]:\r\n",
        "    for k, v in i.items():\r\n",
        "        print(k)\r\n",
        "        print(v) "
      ],
      "execution_count": null,
      "outputs": [
        {
          "output_type": "stream",
          "text": [
            "input\n",
            "[[3, 3, 3, 3, 3, 3], [9, 9, 9, 9, 9, 9]]\n",
            "output\n",
            "[[3, 9, 3, 9, 3, 9], [9, 3, 9, 3, 9, 3]]\n",
            "input\n",
            "[[4, 4, 4, 4, 4, 4], [8, 8, 8, 8, 8, 8]]\n",
            "output\n",
            "[[4, 8, 4, 8, 4, 8], [8, 4, 8, 4, 8, 4]]\n"
          ],
          "name": "stdout"
        }
      ]
    },
    {
      "cell_type": "code",
      "metadata": {
        "id": "sZpmoXB8AUUF"
      },
      "source": [
        "# write function to get the size of the input array and\r\n",
        "# an output array of the required size\r\n",
        "def size(data):\r\n",
        "    import numpy as np\r\n",
        "    rec_shpe_in = []\r\n",
        "    rec_shpe_out = []\r\n",
        "    for i in data:\r\n",
        "        for j in data[i]:\r\n",
        "            for k, v in j.items():\r\n",
        "                if k == 'input':\r\n",
        "                    rec_shpe_in.append(list(v))\r\n",
        "                else:\r\n",
        "                    rec_shpe_out.append(list(v))\r\n",
        "    \r\n",
        "    rec_shape_in = np.array(rec_shpe_in)\r\n",
        "    rec_shape_out = np.array(rec_shpe_out)\r\n",
        "    in_array = rec_shape_in[0].shape\r\n",
        "    out_array = rec_shape_out[0].shape\r\n",
        "\r\n",
        "    return in_array, out_array\r\n"
      ],
      "execution_count": null,
      "outputs": []
    },
    {
      "cell_type": "code",
      "metadata": {
        "id": "QwacrMW96EJl"
      },
      "source": [
        "# get sizes of input and output arrays\r\n",
        "sizes = size(data1)\r\n",
        "input_size = sizes[0]\r\n",
        "output_size = sizes[1]"
      ],
      "execution_count": null,
      "outputs": []
    },
    {
      "cell_type": "code",
      "metadata": {
        "colab": {
          "base_uri": "https://localhost:8080/"
        },
        "id": "1f8Jb1EO7BPy",
        "outputId": "d6784f19-a346-4e5c-ce0e-2634dd1279a8"
      },
      "source": [
        "# [\r\n",
        "# [0, 0, 0, 8, 0, 0, 0, 8, 0, 0, 0], \r\n",
        "# [6, 0, 0, 8, 0, 6, 0, 8, 0, 0, 6], \r\n",
        "# [0, 0, 6, 8, 0, 0, 0, 8, 0, 6, 0], \r\n",
        "# [8, 8, 8, 8, 8, 8, 8, 8, 8, 8, 8], \r\n",
        "# [0, 6, 0, 8, 0, 0, 6, 8, 0, 0, 0], \r\n",
        "# [0, 0, 0, 8, 0, 0, 0, 8, 0, 0, 0], \r\n",
        "# [0, 6, 0, 8, 0, 0, 0, 8, 6, 0, 0], \r\n",
        "# [8, 8, 8, 8, 8, 8, 8, 8, 8, 8, 8], \r\n",
        "# [0, 0, 6, 8, 0, 0, 0, 8, 0, 0, 0], \r\n",
        "# [0, 0, 0, 8, 0, 0, 0, 8, 0, 6, 0], \r\n",
        "# [0, 0, 0, 8, 6, 0, 0, 8, 0, 0, 0]\r\n",
        "#  ]\r\n",
        "\r\n",
        "import numpy as np\r\n",
        "import collections as cs\r\n",
        "from itertools import groupby\r\n",
        "seq_descr = []\r\n",
        "\r\n",
        "in_shp = []\r\n",
        "for i in data1:\r\n",
        "    for j in data1[i]:\r\n",
        "        for k, v in j.items():\r\n",
        "            if k == 'input':\r\n",
        "                in_shp.append(list(v))\r\n",
        "            else:\r\n",
        "                pass\r\n",
        "\r\n",
        "in_shape = np.array(in_shp)\r\n",
        "\r\n",
        "for a in range(len(in_shape)):\r\n",
        "    # get ith array in training data\r\n",
        "    i = in_shape[a]\r\n",
        "\r\n",
        "    seq_lst = []\r\n",
        "    # get sequences in each row\r\n",
        "    for ind, r in enumerate(i):\r\n",
        "        print(type(r))\r\n",
        "        seqs = [list(seq) for k, seq in groupby(r)]\r\n",
        "        seq_str = tuple(('{}th row'.format(ind), '{}'.format(seqs)))\r\n",
        "        seq_lst.append(seq_str)\r\n",
        "    seq_descr.append(seq_lst)\r\n",
        "\r\n",
        "\r\n",
        "print(seq_descr[0])"
      ],
      "execution_count": 31,
      "outputs": [
        {
          "output_type": "stream",
          "text": [
            "<class 'numpy.ndarray'>\n",
            "<class 'numpy.ndarray'>\n",
            "<class 'numpy.ndarray'>\n",
            "<class 'numpy.ndarray'>\n",
            "<class 'numpy.ndarray'>\n",
            "<class 'numpy.ndarray'>\n",
            "<class 'numpy.ndarray'>\n",
            "<class 'numpy.ndarray'>\n",
            "<class 'numpy.ndarray'>\n",
            "<class 'numpy.ndarray'>\n",
            "<class 'numpy.ndarray'>\n",
            "<class 'numpy.ndarray'>\n",
            "<class 'numpy.ndarray'>\n",
            "<class 'numpy.ndarray'>\n",
            "<class 'numpy.ndarray'>\n",
            "<class 'numpy.ndarray'>\n",
            "<class 'numpy.ndarray'>\n",
            "<class 'numpy.ndarray'>\n",
            "<class 'numpy.ndarray'>\n",
            "<class 'numpy.ndarray'>\n",
            "<class 'numpy.ndarray'>\n",
            "<class 'numpy.ndarray'>\n",
            "<class 'numpy.ndarray'>\n",
            "<class 'numpy.ndarray'>\n",
            "<class 'numpy.ndarray'>\n",
            "<class 'numpy.ndarray'>\n",
            "<class 'numpy.ndarray'>\n",
            "<class 'numpy.ndarray'>\n",
            "<class 'numpy.ndarray'>\n",
            "<class 'numpy.ndarray'>\n",
            "<class 'numpy.ndarray'>\n",
            "<class 'numpy.ndarray'>\n",
            "<class 'numpy.ndarray'>\n",
            "<class 'numpy.ndarray'>\n",
            "<class 'numpy.ndarray'>\n",
            "<class 'numpy.ndarray'>\n",
            "<class 'numpy.ndarray'>\n",
            "<class 'numpy.ndarray'>\n",
            "<class 'numpy.ndarray'>\n",
            "<class 'numpy.ndarray'>\n",
            "<class 'numpy.ndarray'>\n",
            "<class 'numpy.ndarray'>\n",
            "<class 'numpy.ndarray'>\n",
            "<class 'numpy.ndarray'>\n",
            "<class 'numpy.ndarray'>\n",
            "<class 'numpy.ndarray'>\n",
            "<class 'numpy.ndarray'>\n",
            "<class 'numpy.ndarray'>\n",
            "<class 'numpy.ndarray'>\n",
            "<class 'numpy.ndarray'>\n",
            "<class 'numpy.ndarray'>\n",
            "<class 'numpy.ndarray'>\n",
            "<class 'numpy.ndarray'>\n",
            "<class 'numpy.ndarray'>\n",
            "<class 'numpy.ndarray'>\n",
            "[('0th row', '[[0, 0, 0], [8], [0, 0, 0], [8], [0, 0, 0]]'), ('1th row', '[[6], [0, 0], [8], [0], [6], [0], [8], [0, 0], [6]]'), ('2th row', '[[0, 0], [6], [8], [0, 0, 0], [8], [0], [6], [0]]'), ('3th row', '[[8, 8, 8, 8, 8, 8, 8, 8, 8, 8, 8]]'), ('4th row', '[[0], [6], [0], [8], [0, 0], [6], [8], [0, 0, 0]]'), ('5th row', '[[0, 0, 0], [8], [0, 0, 0], [8], [0, 0, 0]]'), ('6th row', '[[0], [6], [0], [8], [0, 0, 0], [8], [6], [0, 0]]'), ('7th row', '[[8, 8, 8, 8, 8, 8, 8, 8, 8, 8, 8]]'), ('8th row', '[[0, 0], [6], [8], [0, 0, 0], [8], [0, 0, 0]]'), ('9th row', '[[0, 0, 0], [8], [0, 0, 0], [8], [0], [6], [0]]'), ('10th row', '[[0, 0, 0], [8], [6], [0, 0], [8], [0, 0, 0]]')]\n"
          ],
          "name": "stdout"
        }
      ]
    },
    {
      "cell_type": "code",
      "metadata": {
        "id": "thymn8snONc0"
      },
      "source": [
        "# define function to obtain indexes of each digit in a row/column\r\n",
        "def recur_val_ind(lst, el):\r\n",
        "    index_pos_list = []\r\n",
        "    for i in range(len(lst)):\r\n",
        "        if lst[i] == el:\r\n",
        "            index_pos_list.append(i)\r\n",
        "    return index_pos_list"
      ],
      "execution_count": 11,
      "outputs": []
    },
    {
      "cell_type": "code",
      "metadata": {
        "id": "ojiKD1b3uGdM"
      },
      "source": [
        "# define function to describe the input array\r\n",
        "def input_array_descr(data):\r\n",
        "    import numpy as np\r\n",
        "    import collections as cs\r\n",
        "    from itertools import groupby\r\n",
        "    row_descr = []\r\n",
        "    col_descr = []\r\n",
        "    diag_descr = []\r\n",
        "    r_freq_count = []\r\n",
        "    c_freq_count = []\r\n",
        "    r_seq_descr = []\r\n",
        "    c_seq_descr = []\r\n",
        "\r\n",
        "    in_shp = []\r\n",
        "    for i in data:\r\n",
        "        for j in data[i]:\r\n",
        "            for k, v in j.items():\r\n",
        "                if k == 'input':\r\n",
        "                    in_shp.append(list(v))\r\n",
        "                else:\r\n",
        "                    pass\r\n",
        "    \r\n",
        "    in_shape = np.array(in_shp)\r\n",
        "\r\n",
        "    ## compare all row elements ##\r\n",
        "    \r\n",
        "    # get number of arrays in training file\r\n",
        "    for a in range(len(in_shape)):\r\n",
        "        # get ith array in training data\r\n",
        "        i = in_shape[a]\r\n",
        "        \r\n",
        "        elem_cnt = []       \r\n",
        "        # add freq of elements to element list\r\n",
        "        for ind, row in enumerate(i):\r\n",
        "            elements_count = cs.Counter(row)\r\n",
        "            el_count = dict(elements_count)\r\n",
        "            el_str = tuple(('{}th row'.format(ind), '{}'.format(el_count)))\r\n",
        "            elem_cnt.append(el_str)\r\n",
        "        r_freq_count.append(elem_cnt)\r\n",
        "        \r\n",
        "        row_d = []\r\n",
        "        # iterate through rows and index each row\r\n",
        "        for ind, r in enumerate(i):\r\n",
        "            if all(j == r[0] for j in r):\r\n",
        "                row_d.append( tuple(('{}th row'.format(ind), 'all same')) )\r\n",
        "            elif len(set(r)) == len(r):\r\n",
        "                row_d.append( tuple(('{}th row'.format(ind), 'all diff')) )       \r\n",
        "            else:\r\n",
        "                ind_lst = []\r\n",
        "                set_ind = set(r)\r\n",
        "                for a in set_ind:\r\n",
        "                    if a in r:\r\n",
        "                        indices = recur_val_ind(r, a)\r\n",
        "                        # add 1 to each index and divide by lenght of row to get pattern??\r\n",
        "                        ind_lst.append((a, indices))\r\n",
        "                row_d.append( tuple(('{}th row'.format(ind),ind_lst)) )\r\n",
        "                # can I derive a pattern for each digit in each row?\r\n",
        "        row_descr.append((row_d))\r\n",
        "\r\n",
        "        seq_lst = []\r\n",
        "        # get sequences in each row\r\n",
        "        for ind, row in enumerate(i):\r\n",
        "            seqs = [list(group) for val, group in groupby(row)]\r\n",
        "            seq_str = tuple(('{}th row'.format(ind), '{}'.format(seqs)))\r\n",
        "            seq_lst.append(seq_str)\r\n",
        "        r_seq_descr.append(seq_lst)\r\n",
        "\r\n",
        "    ## compare all column elements\r\n",
        "\r\n",
        "    for a in range(len(in_shape)):\r\n",
        "        # take single array from array list and transpose\r\n",
        "        i = in_shape[a].T\r\n",
        "\r\n",
        "        elem_cnt = []       \r\n",
        "        # add freq of elements to element list\r\n",
        "        for ind, row in enumerate(i):\r\n",
        "            elements_count = cs.Counter(row)\r\n",
        "            el_count = dict(elements_count)\r\n",
        "            el_str = tuple(('{}th row'.format(ind), '{}'.format(el_count)))\r\n",
        "            elem_cnt.append(el_str)\r\n",
        "        c_freq_count.append(elem_cnt)\r\n",
        "\r\n",
        "        col_d = []\r\n",
        "        # create range from 1 to num of cols\r\n",
        "        for ind, r in enumerate(i):\r\n",
        "            if all(j == r[0] for j in r):\r\n",
        "                col_d.append( tuple(('{}th col'.format(ind), 'all same')) )\r\n",
        "            elif len(set(r)) == len(r):\r\n",
        "                col_d.append( tuple(('{}th col'.format(ind), 'all diff')) )       \r\n",
        "            else:\r\n",
        "                ind_lst = []\r\n",
        "                set_ind = set(r)\r\n",
        "                for a in set_ind:\r\n",
        "                    if a in r:\r\n",
        "                        indices = recur_val_ind(r, a)\r\n",
        "                        # add 1 to each index and divide by lenght of col to get pattern??\r\n",
        "                        ind_lst.append((a, indices))\r\n",
        "                row_d.append( tuple(('{}th col'.format(ind),ind_lst)) )\r\n",
        "                # can I derive a pattern for each digit in each col?\r\n",
        "        col_descr.append((col_d))\r\n",
        "\r\n",
        "        seq_lst = []\r\n",
        "        # get sequences in each row\r\n",
        "        for ind, row in enumerate(i):\r\n",
        "            seqs = [list(group) for val, group in groupby(row)]\r\n",
        "            seq_str = tuple(('{}th row'.format(ind), '{}'.format(seqs)))\r\n",
        "            seq_lst.append(seq_str)\r\n",
        "        c_seq_descr.append(seq_lst)\r\n",
        "    \r\n",
        "    ## compare all diagonal elements\r\n",
        "    for a in range(len(in_shape)):\r\n",
        "        k = in_shape[a]\r\n",
        "        diag_d = []\r\n",
        "        rec_width = k.shape[0]\r\n",
        "        rec_depth = k.shape[1]\r\n",
        "        for i in range(rec_width):\r\n",
        "            diag_offset = np.diagonal(k, offset = i)\r\n",
        "            if all(l == diag_offset[0] for l in diag_offset):\r\n",
        "                diag_d.append( str('{} same'.format(i)) )\r\n",
        "            else:\r\n",
        "                diag_d.append( str('{} diff'.format(i)) )\r\n",
        "        \r\n",
        "        diag_descr.append(diag_d)\r\n",
        "\r\n",
        "    #col_descr = np.array(col_descr).T\r\n",
        "    #col_descr = list(col_descr)\r\n",
        "\r\n",
        "    in_descr = {'row' : row_descr, 'col' : col_descr, 'diag' : diag_descr, 'c_freq' : c_freq_count, 'r_freq' : r_freq_count, 'c_seqs' : c_seq_descr, 'r_seqs' : r_seq_descr}\r\n",
        "\r\n",
        "    return in_descr"
      ],
      "execution_count": 38,
      "outputs": []
    },
    {
      "cell_type": "code",
      "metadata": {
        "colab": {
          "base_uri": "https://localhost:8080/"
        },
        "id": "ROLgM87lDN6v",
        "outputId": "e7f2f6e7-ed3e-45d1-fd8a-b660a32e25f5"
      },
      "source": [
        "input_array_descr(data)"
      ],
      "execution_count": 40,
      "outputs": [
        {
          "output_type": "execute_result",
          "data": {
            "text/plain": [
              "{'c_freq': [[('0th row', '{3: 1, 9: 1}'),\n",
              "   ('1th row', '{3: 1, 9: 1}'),\n",
              "   ('2th row', '{3: 1, 9: 1}'),\n",
              "   ('3th row', '{3: 1, 9: 1}'),\n",
              "   ('4th row', '{3: 1, 9: 1}'),\n",
              "   ('5th row', '{3: 1, 9: 1}')],\n",
              "  [('0th row', '{4: 1, 8: 1}'),\n",
              "   ('1th row', '{4: 1, 8: 1}'),\n",
              "   ('2th row', '{4: 1, 8: 1}'),\n",
              "   ('3th row', '{4: 1, 8: 1}'),\n",
              "   ('4th row', '{4: 1, 8: 1}'),\n",
              "   ('5th row', '{4: 1, 8: 1}')],\n",
              "  [('0th row', '{6: 1, 2: 1}'),\n",
              "   ('1th row', '{6: 1, 2: 1}'),\n",
              "   ('2th row', '{6: 1, 2: 1}'),\n",
              "   ('3th row', '{6: 1, 2: 1}'),\n",
              "   ('4th row', '{6: 1, 2: 1}'),\n",
              "   ('5th row', '{6: 1, 2: 1}')]],\n",
              " 'c_seqs': [[('0th row', '[[3], [9]]'),\n",
              "   ('1th row', '[[3], [9]]'),\n",
              "   ('2th row', '[[3], [9]]'),\n",
              "   ('3th row', '[[3], [9]]'),\n",
              "   ('4th row', '[[3], [9]]'),\n",
              "   ('5th row', '[[3], [9]]')],\n",
              "  [('0th row', '[[4], [8]]'),\n",
              "   ('1th row', '[[4], [8]]'),\n",
              "   ('2th row', '[[4], [8]]'),\n",
              "   ('3th row', '[[4], [8]]'),\n",
              "   ('4th row', '[[4], [8]]'),\n",
              "   ('5th row', '[[4], [8]]')],\n",
              "  [('0th row', '[[6], [2]]'),\n",
              "   ('1th row', '[[6], [2]]'),\n",
              "   ('2th row', '[[6], [2]]'),\n",
              "   ('3th row', '[[6], [2]]'),\n",
              "   ('4th row', '[[6], [2]]'),\n",
              "   ('5th row', '[[6], [2]]')]],\n",
              " 'col': [[('0th col', 'all diff'),\n",
              "   ('1th col', 'all diff'),\n",
              "   ('2th col', 'all diff'),\n",
              "   ('3th col', 'all diff'),\n",
              "   ('4th col', 'all diff'),\n",
              "   ('5th col', 'all diff')],\n",
              "  [('0th col', 'all diff'),\n",
              "   ('1th col', 'all diff'),\n",
              "   ('2th col', 'all diff'),\n",
              "   ('3th col', 'all diff'),\n",
              "   ('4th col', 'all diff'),\n",
              "   ('5th col', 'all diff')],\n",
              "  [('0th col', 'all diff'),\n",
              "   ('1th col', 'all diff'),\n",
              "   ('2th col', 'all diff'),\n",
              "   ('3th col', 'all diff'),\n",
              "   ('4th col', 'all diff'),\n",
              "   ('5th col', 'all diff')]],\n",
              " 'diag': [['0 diff', '1 diff'], ['0 diff', '1 diff'], ['0 diff', '1 diff']],\n",
              " 'r_freq': [[('0th row', '{3: 6}'), ('1th row', '{9: 6}')],\n",
              "  [('0th row', '{4: 6}'), ('1th row', '{8: 6}')],\n",
              "  [('0th row', '{6: 6}'), ('1th row', '{2: 6}')]],\n",
              " 'r_seqs': [[('0th row', '[[3, 3, 3, 3, 3, 3]]'),\n",
              "   ('1th row', '[[9, 9, 9, 9, 9, 9]]')],\n",
              "  [('0th row', '[[4, 4, 4, 4, 4, 4]]'), ('1th row', '[[8, 8, 8, 8, 8, 8]]')],\n",
              "  [('0th row', '[[6, 6, 6, 6, 6, 6]]'), ('1th row', '[[2, 2, 2, 2, 2, 2]]')]],\n",
              " 'row': [[('0th row', 'all same'), ('1th row', 'all same')],\n",
              "  [('0th row', 'all same'), ('1th row', 'all same')],\n",
              "  [('0th row', 'all same'), ('1th row', 'all same')]]}"
            ]
          },
          "metadata": {
            "tags": []
          },
          "execution_count": 40
        }
      ]
    },
    {
      "cell_type": "code",
      "metadata": {
        "colab": {
          "base_uri": "https://localhost:8080/"
        },
        "id": "ydz9Ere2AUj1",
        "outputId": "cde2c77e-f776-4b1a-bac4-0616e4ec4a78"
      },
      "source": [
        "data1 = \\\r\n",
        "{\"train\": [{\"input\": [[0, 0, 0, 8, 0, 0, 0, 8, 0, 0, 0], \r\n",
        "                      [6, 0, 0, 8, 0, 6, 0, 8, 0, 0, 6], \r\n",
        "                      [0, 0, 6, 8, 0, 0, 0, 8, 0, 6, 0], \r\n",
        "                      [8, 8, 8, 8, 8, 8, 8, 8, 8, 8, 8], \r\n",
        "                      [0, 6, 0, 8, 0, 0, 6, 8, 0, 0, 0], \r\n",
        "                      [0, 0, 0, 8, 0, 0, 0, 8, 0, 0, 0], \r\n",
        "                      [0, 6, 0, 8, 0, 0, 0, 8, 6, 0, 0], \r\n",
        "                      [8, 8, 8, 8, 8, 8, 8, 8, 8, 8, 8], \r\n",
        "                      [0, 0, 6, 8, 0, 0, 0, 8, 0, 0, 0], \r\n",
        "                      [0, 0, 0, 8, 0, 0, 0, 8, 0, 6, 0], \r\n",
        "                      [0, 0, 0, 8, 6, 0, 0, 8, 0, 0, 0]], \r\n",
        "            \"output\": [[1, 0, 1], \r\n",
        "                       [1, 0, 0], \r\n",
        "                       [0, 0, 0]]}, \r\n",
        "           {\"input\": [[6, 0, 0, 8, 0, 0, 0, 8, 0, 0, 0], \r\n",
        "                      [0, 0, 0, 8, 0, 0, 6, 8, 0, 0, 6], \r\n",
        "                      [0, 0, 0, 8, 0, 0, 0, 8, 0, 0, 0], \r\n",
        "                      [8, 8, 8, 8, 8, 8, 8, 8, 8, 8, 8], \r\n",
        "                      [6, 0, 0, 8, 0, 0, 0, 8, 0, 0, 0], \r\n",
        "                      [0, 0, 0, 8, 0, 0, 0, 8, 0, 6, 0], \r\n",
        "                      [0, 0, 0, 8, 0, 0, 6, 8, 6, 0, 0], \r\n",
        "                      [8, 8, 8, 8, 8, 8, 8, 8, 8, 8, 8], \r\n",
        "                      [0, 0, 0, 8, 0, 0, 0, 8, 0, 0, 0], \r\n",
        "                      [6, 0, 0, 8, 0, 0, 0, 8, 0, 0, 0], \r\n",
        "                      [0, 6, 0, 8, 0, 6, 0, 8, 0, 0, 6]], \r\n",
        "            \"output\": [[0, 0, 0], \r\n",
        "                       [0, 0, 1], \r\n",
        "                       [1, 0, 0]]}, \r\n",
        "           {\"input\": [[0, 0, 0, 8, 0, 6, 0, 8, 0, 0, 6], \r\n",
        "                      [0, 0, 0, 8, 0, 0, 0, 8, 0, 6, 0], \r\n",
        "                      [0, 6, 0, 8, 0, 6, 0, 8, 0, 0, 0], \r\n",
        "                      [8, 8, 8, 8, 8, 8, 8, 8, 8, 8, 8], \r\n",
        "                      [0, 0, 0, 8, 0, 0, 0, 8, 0, 0, 0], \r\n",
        "                      [0, 0, 0, 8, 0, 6, 0, 8, 0, 0, 0], \r\n",
        "                      [6, 0, 0, 8, 0, 0, 0, 8, 0, 6, 0], \r\n",
        "                      [8, 8, 8, 8, 8, 8, 8, 8, 8, 8, 8], \r\n",
        "                      [0, 0, 0, 8, 0, 0, 0, 8, 6, 0, 0], \r\n",
        "                      [0, 6, 0, 8, 0, 0, 0, 8, 0, 0, 6], \r\n",
        "                      [0, 0, 0, 8, 6, 0, 0, 8, 0, 0, 0]], \r\n",
        "            \"output\": [[0, 1, 1], \r\n",
        "                       [0, 0, 0], \r\n",
        "                       [0, 0, 1]]}, \r\n",
        "           {\"input\": [[0, 0, 0, 8, 0, 0, 0, 8, 0, 0, 6], \r\n",
        "                      [0, 0, 6, 8, 0, 0, 0, 8, 6, 0, 0], \r\n",
        "                      [0, 0, 0, 8, 0, 6, 0, 8, 0, 0, 0], \r\n",
        "                      [8, 8, 8, 8, 8, 8, 8, 8, 8, 8, 8], \r\n",
        "                      [0, 0, 0, 8, 0, 6, 0, 8, 0, 0, 0], \r\n",
        "                      [6, 0, 0, 8, 0, 0, 6, 8, 0, 0, 0], \r\n",
        "                      [0, 0, 0, 8, 0, 0, 0, 8, 0, 6, 0], \r\n",
        "                      [8, 8, 8, 8, 8, 8, 8, 8, 8, 8, 8], \r\n",
        "                      [0, 0, 0, 8, 0, 0, 0, 8, 0, 0, 0], \r\n",
        "                      [0, 0, 6, 8, 0, 0, 0, 8, 6, 0, 0], \r\n",
        "                      [0, 0, 0, 8, 0, 6, 0, 8, 0, 0, 0]], \r\n",
        "            \"output\": [[0, 0, 1], \r\n",
        "                       [0, 1, 0], \r\n",
        "                       [0, 0, 0]]}], \r\n",
        " \"test\": [{\"input\": [[0, 0, 0, 8, 0, 0, 0, 8, 6, 0, 6], \r\n",
        "                     [0, 6, 0, 8, 0, 0, 6, 8, 0, 0, 0], \r\n",
        "                     [0, 0, 0, 8, 0, 0, 0, 8, 0, 0, 0], \r\n",
        "                     [8, 8, 8, 8, 8, 8, 8, 8, 8, 8, 8], \r\n",
        "                     [0, 0, 0, 8, 0, 0, 0, 8, 0, 6, 0], \r\n",
        "                     [0, 0, 6, 8, 0, 6, 0, 8, 0, 0, 0], \r\n",
        "                     [0, 0, 0, 8, 6, 0, 0, 8, 0, 0, 6], \r\n",
        "                     [8, 8, 8, 8, 8, 8, 8, 8, 8, 8, 8], \r\n",
        "                     [0, 0, 6, 8, 0, 0, 0, 8, 0, 0, 0], \r\n",
        "                     [6, 0, 0, 8, 0, 0, 0, 8, 0, 6, 0], \r\n",
        "                     [0, 0, 0, 8, 0, 6, 0, 8, 0, 0, 0]], \r\n",
        "           \"output\": [[0, 0, 1], \r\n",
        "                      [0, 1, 1], \r\n",
        "                      [1, 0, 0]]}]}\r\n",
        "\r\n",
        "print(type(data1))"
      ],
      "execution_count": 2,
      "outputs": [
        {
          "output_type": "stream",
          "text": [
            "<class 'dict'>\n"
          ],
          "name": "stdout"
        }
      ]
    },
    {
      "cell_type": "code",
      "metadata": {
        "colab": {
          "base_uri": "https://localhost:8080/"
        },
        "id": "tq44t17LNSs7",
        "outputId": "5db4e7a7-3840-47f1-9faf-9c8ffa277be1"
      },
      "source": [
        "import numpy as np\r\n",
        "rec_shpe1 = []\r\n",
        "for i in data1:\r\n",
        "    for j in data1[i]:\r\n",
        "        for k, v in j.items():\r\n",
        "            rec_shpe1.append(list(v))\r\n",
        "rec_shape1 = np.array(rec_shpe1[-1])\r\n",
        "rsize1 = rec_shape1.shape\r\n",
        "print(rsize1)\r\n",
        "\r\n",
        "for i in rec_shpe1:\r\n",
        "    j = np.array(i)\r\n",
        "    k = j.shape\r\n",
        "    print(k)"
      ],
      "execution_count": null,
      "outputs": [
        {
          "output_type": "stream",
          "text": [
            "(3, 3)\n",
            "(11, 11)\n",
            "(3, 3)\n",
            "(11, 11)\n",
            "(3, 3)\n",
            "(11, 11)\n",
            "(3, 3)\n",
            "(11, 11)\n",
            "(3, 3)\n",
            "(11, 11)\n",
            "(3, 3)\n"
          ],
          "name": "stdout"
        }
      ]
    }
  ]
}