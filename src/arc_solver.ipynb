{
  "nbformat": 4,
  "nbformat_minor": 0,
  "metadata": {
    "colab": {
      "name": "arc_solver.ipynb",
      "provenance": [],
      "collapsed_sections": [],
      "authorship_tag": "ABX9TyPq4jG2qvxG9FEHZaoxtWGx",
      "include_colab_link": true
    },
    "kernelspec": {
      "name": "python3",
      "display_name": "Python 3"
    }
  },
  "cells": [
    {
      "cell_type": "markdown",
      "metadata": {
        "id": "view-in-github",
        "colab_type": "text"
      },
      "source": [
        "<a href=\"https://colab.research.google.com/github/GerardJLarkin/ARC/blob/develop/src/arc_solver.ipynb\" target=\"_parent\"><img src=\"https://colab.research.google.com/assets/colab-badge.svg\" alt=\"Open In Colab\"/></a>"
      ]
    },
    {
      "cell_type": "code",
      "metadata": {
        "colab": {
          "base_uri": "https://localhost:8080/"
        },
        "id": "UqNvgQ837qPO",
        "outputId": "06aaa556-23a9-44f5-83e9-622b5d84e7b4"
      },
      "source": [
        "\r\n",
        "data = {\"train\": [{\"input\": [[3, 3, 3, 3, 3, 3], [9, 9, 9, 9, 9, 9]], \r\n",
        "            \"output\": [[3, 9, 3, 9, 3, 9], [9, 3, 9, 3, 9, 3]]}, \r\n",
        "           {\"input\": [[4, 4, 4, 4, 4, 4], [8, 8, 8, 8, 8, 8]], \r\n",
        "            \"output\": [[4, 8, 4, 8, 4, 8], [8, 4, 8, 4, 8, 4]]}], \r\n",
        "       \"test\": [{\"input\": [[6, 6, 6, 6, 6, 6], [2, 2, 2, 2, 2, 2]], \r\n",
        "           \"output\": [[6, 2, 6, 2, 6, 2], [2, 6, 2, 6, 2, 6]]}]}\r\n",
        "\r\n",
        "print(type(data))\r\n",
        "\r\n",
        "#def solve_6a1e5592(x):\r\n",
        "#    return x"
      ],
      "execution_count": null,
      "outputs": [
        {
          "output_type": "stream",
          "text": [
            "<class 'dict'>\n"
          ],
          "name": "stdout"
        }
      ]
    },
    {
      "cell_type": "code",
      "metadata": {
        "colab": {
          "base_uri": "https://localhost:8080/"
        },
        "id": "uslwDdSlAUGv",
        "outputId": "0446a016-9cd7-4966-e898-9015244cb61f"
      },
      "source": [
        "#a0 = data.values()\r\n",
        "#a1 = [data[k] for k in data]\r\n",
        "#a2 = [data[k] for k in data][0]\r\n",
        "a3 = [data[k] for k in data][0][0]\r\n",
        "a4 = [data[k] for k in data][0][1]\r\n",
        "#a4 = [data[k] for k in data][0][0].values()\r\n",
        "#a5 = [data[k] for k in data][0][1].values()\r\n",
        "#a6 = [data[k] for k in data][1][0].values()\r\n",
        "#print(a0)\r\n",
        "#print(a1)\r\n",
        "#print(a2)\r\n",
        "print(a3)\r\n",
        "print(a4)\r\n",
        "#print(a5)\r\n",
        "#print(list(a6)[0][1])"
      ],
      "execution_count": null,
      "outputs": [
        {
          "output_type": "stream",
          "text": [
            "{'input': [[3, 3, 3, 3, 3, 3], [9, 9, 9, 9, 9, 9]], 'output': [[3, 9, 3, 9, 3, 9], [9, 3, 9, 3, 9, 3]]}\n",
            "{'input': [[4, 4, 4, 4, 4, 4], [8, 8, 8, 8, 8, 8]], 'output': [[4, 8, 4, 8, 4, 8], [8, 4, 8, 4, 8, 4]]}\n"
          ],
          "name": "stdout"
        }
      ]
    },
    {
      "cell_type": "code",
      "metadata": {
        "colab": {
          "base_uri": "https://localhost:8080/"
        },
        "id": "eoyPqpSTYCjH",
        "outputId": "3a499637-c2ca-4629-e40e-afb182f9da31"
      },
      "source": [
        "for i in [data[k] for k in data][0]:\r\n",
        "    for k, v in i.items():\r\n",
        "        print(k)\r\n",
        "        print(v) "
      ],
      "execution_count": null,
      "outputs": [
        {
          "output_type": "stream",
          "text": [
            "input\n",
            "[[3, 3, 3, 3, 3, 3], [9, 9, 9, 9, 9, 9]]\n",
            "output\n",
            "[[3, 9, 3, 9, 3, 9], [9, 3, 9, 3, 9, 3]]\n",
            "input\n",
            "[[4, 4, 4, 4, 4, 4], [8, 8, 8, 8, 8, 8]]\n",
            "output\n",
            "[[4, 8, 4, 8, 4, 8], [8, 4, 8, 4, 8, 4]]\n"
          ],
          "name": "stdout"
        }
      ]
    },
    {
      "cell_type": "code",
      "metadata": {
        "colab": {
          "base_uri": "https://localhost:8080/"
        },
        "id": "sZpmoXB8AUUF",
        "outputId": "89bd5f60-0273-4dc4-9bd7-e60becfb1c65"
      },
      "source": [
        "import numpy as np\r\n",
        "rec_shpe = []\r\n",
        "for i in data:\r\n",
        "    for j in data[i]:\r\n",
        "        for k, v in j.items():\r\n",
        "            rec_shpe.append(list(v))\r\n",
        "rec_shape = np.array(rec_shpe[-1])\r\n",
        "rsize = rec_shape.shape\r\n",
        "print(rsize)\r\n",
        "\r\n",
        "for i in range(len(rec_shpe)-1):\r\n",
        "    h = rec_shpe[i]\r\n",
        "    j = np.array(h)\r\n",
        "    for r in j:\r\n",
        "        if all(elem == r[0] for elem in r):\r\n",
        "            print('same')\r\n",
        "        else:\r\n",
        "            print('different')\r\n",
        "    #k = j.shape\r\n",
        "    #print(k)"
      ],
      "execution_count": null,
      "outputs": [
        {
          "output_type": "stream",
          "text": [
            "(2, 6)\n",
            "same\n",
            "same\n",
            "different\n",
            "different\n",
            "same\n",
            "same\n",
            "different\n",
            "different\n",
            "same\n",
            "same\n"
          ],
          "name": "stdout"
        }
      ]
    },
    {
      "cell_type": "code",
      "metadata": {
        "colab": {
          "base_uri": "https://localhost:8080/"
        },
        "id": "ydz9Ere2AUj1",
        "outputId": "cf9454d2-f4bc-43e2-af75-174329d3610b"
      },
      "source": [
        "data1 = \\\r\n",
        "{\"train\": [{\"input\": [[0, 0, 0, 8, 0, 0, 0, 8, 0, 0, 0], \r\n",
        "                      [6, 0, 0, 8, 0, 6, 0, 8, 0, 0, 6], \r\n",
        "                      [0, 0, 6, 8, 0, 0, 0, 8, 0, 6, 0], \r\n",
        "                      [8, 8, 8, 8, 8, 8, 8, 8, 8, 8, 8], \r\n",
        "                      [0, 6, 0, 8, 0, 0, 6, 8, 0, 0, 0], \r\n",
        "                      [0, 0, 0, 8, 0, 0, 0, 8, 0, 0, 0], \r\n",
        "                      [0, 6, 0, 8, 0, 0, 0, 8, 6, 0, 0], \r\n",
        "                      [8, 8, 8, 8, 8, 8, 8, 8, 8, 8, 8], \r\n",
        "                      [0, 0, 6, 8, 0, 0, 0, 8, 0, 0, 0], \r\n",
        "                      [0, 0, 0, 8, 0, 0, 0, 8, 0, 6, 0], \r\n",
        "                      [0, 0, 0, 8, 6, 0, 0, 8, 0, 0, 0]], \r\n",
        "            \"output\": [[1, 0, 1], \r\n",
        "                       [1, 0, 0], \r\n",
        "                       [0, 0, 0]]}, \r\n",
        "           {\"input\": [[6, 0, 0, 8, 0, 0, 0, 8, 0, 0, 0], \r\n",
        "                      [0, 0, 0, 8, 0, 0, 6, 8, 0, 0, 6], \r\n",
        "                      [0, 0, 0, 8, 0, 0, 0, 8, 0, 0, 0], \r\n",
        "                      [8, 8, 8, 8, 8, 8, 8, 8, 8, 8, 8], \r\n",
        "                      [6, 0, 0, 8, 0, 0, 0, 8, 0, 0, 0], \r\n",
        "                      [0, 0, 0, 8, 0, 0, 0, 8, 0, 6, 0], \r\n",
        "                      [0, 0, 0, 8, 0, 0, 6, 8, 6, 0, 0], \r\n",
        "                      [8, 8, 8, 8, 8, 8, 8, 8, 8, 8, 8], \r\n",
        "                      [0, 0, 0, 8, 0, 0, 0, 8, 0, 0, 0], \r\n",
        "                      [6, 0, 0, 8, 0, 0, 0, 8, 0, 0, 0], \r\n",
        "                      [0, 6, 0, 8, 0, 6, 0, 8, 0, 0, 6]], \r\n",
        "            \"output\": [[0, 0, 0], \r\n",
        "                       [0, 0, 1], \r\n",
        "                       [1, 0, 0]]}, \r\n",
        "           {\"input\": [[0, 0, 0, 8, 0, 6, 0, 8, 0, 0, 6], \r\n",
        "                      [0, 0, 0, 8, 0, 0, 0, 8, 0, 6, 0], \r\n",
        "                      [0, 6, 0, 8, 0, 6, 0, 8, 0, 0, 0], \r\n",
        "                      [8, 8, 8, 8, 8, 8, 8, 8, 8, 8, 8], \r\n",
        "                      [0, 0, 0, 8, 0, 0, 0, 8, 0, 0, 0], \r\n",
        "                      [0, 0, 0, 8, 0, 6, 0, 8, 0, 0, 0], \r\n",
        "                      [6, 0, 0, 8, 0, 0, 0, 8, 0, 6, 0], \r\n",
        "                      [8, 8, 8, 8, 8, 8, 8, 8, 8, 8, 8], \r\n",
        "                      [0, 0, 0, 8, 0, 0, 0, 8, 6, 0, 0], \r\n",
        "                      [0, 6, 0, 8, 0, 0, 0, 8, 0, 0, 6], \r\n",
        "                      [0, 0, 0, 8, 6, 0, 0, 8, 0, 0, 0]], \r\n",
        "            \"output\": [[0, 1, 1], \r\n",
        "                       [0, 0, 0], \r\n",
        "                       [0, 0, 1]]}, \r\n",
        "           {\"input\": [[0, 0, 0, 8, 0, 0, 0, 8, 0, 0, 6], \r\n",
        "                      [0, 0, 6, 8, 0, 0, 0, 8, 6, 0, 0], \r\n",
        "                      [0, 0, 0, 8, 0, 6, 0, 8, 0, 0, 0], \r\n",
        "                      [8, 8, 8, 8, 8, 8, 8, 8, 8, 8, 8], \r\n",
        "                      [0, 0, 0, 8, 0, 6, 0, 8, 0, 0, 0], \r\n",
        "                      [6, 0, 0, 8, 0, 0, 6, 8, 0, 0, 0], \r\n",
        "                      [0, 0, 0, 8, 0, 0, 0, 8, 0, 6, 0], \r\n",
        "                      [8, 8, 8, 8, 8, 8, 8, 8, 8, 8, 8], \r\n",
        "                      [0, 0, 0, 8, 0, 0, 0, 8, 0, 0, 0], \r\n",
        "                      [0, 0, 6, 8, 0, 0, 0, 8, 6, 0, 0], \r\n",
        "                      [0, 0, 0, 8, 0, 6, 0, 8, 0, 0, 0]], \r\n",
        "            \"output\": [[0, 0, 1], \r\n",
        "                       [0, 1, 0], \r\n",
        "                       [0, 0, 0]]}], \r\n",
        " \"test\": [{\"input\": [[0, 0, 0, 8, 0, 0, 0, 8, 6, 0, 6], \r\n",
        "                     [0, 6, 0, 8, 0, 0, 6, 8, 0, 0, 0], \r\n",
        "                     [0, 0, 0, 8, 0, 0, 0, 8, 0, 0, 0], \r\n",
        "                     [8, 8, 8, 8, 8, 8, 8, 8, 8, 8, 8], \r\n",
        "                     [0, 0, 0, 8, 0, 0, 0, 8, 0, 6, 0], \r\n",
        "                     [0, 0, 6, 8, 0, 6, 0, 8, 0, 0, 0], \r\n",
        "                     [0, 0, 0, 8, 6, 0, 0, 8, 0, 0, 6], \r\n",
        "                     [8, 8, 8, 8, 8, 8, 8, 8, 8, 8, 8], \r\n",
        "                     [0, 0, 6, 8, 0, 0, 0, 8, 0, 0, 0], \r\n",
        "                     [6, 0, 0, 8, 0, 0, 0, 8, 0, 6, 0], \r\n",
        "                     [0, 0, 0, 8, 0, 6, 0, 8, 0, 0, 0]], \r\n",
        "           \"output\": [[0, 0, 1], \r\n",
        "                      [0, 1, 1], \r\n",
        "                      [1, 0, 0]]}]}\r\n",
        "\r\n",
        "print(type(data1))"
      ],
      "execution_count": null,
      "outputs": [
        {
          "output_type": "stream",
          "text": [
            "<class 'dict'>\n"
          ],
          "name": "stdout"
        }
      ]
    },
    {
      "cell_type": "code",
      "metadata": {
        "colab": {
          "base_uri": "https://localhost:8080/"
        },
        "id": "tq44t17LNSs7",
        "outputId": "5db4e7a7-3840-47f1-9faf-9c8ffa277be1"
      },
      "source": [
        "import numpy as np\r\n",
        "rec_shpe1 = []\r\n",
        "for i in data1:\r\n",
        "    for j in data1[i]:\r\n",
        "        for k, v in j.items():\r\n",
        "            rec_shpe1.append(list(v))\r\n",
        "rec_shape1 = np.array(rec_shpe1[-1])\r\n",
        "rsize1 = rec_shape1.shape\r\n",
        "print(rsize1)\r\n",
        "\r\n",
        "for i in rec_shpe1:\r\n",
        "    j = np.array(i)\r\n",
        "    k = j.shape\r\n",
        "    print(k)"
      ],
      "execution_count": null,
      "outputs": [
        {
          "output_type": "stream",
          "text": [
            "(3, 3)\n",
            "(11, 11)\n",
            "(3, 3)\n",
            "(11, 11)\n",
            "(3, 3)\n",
            "(11, 11)\n",
            "(3, 3)\n",
            "(11, 11)\n",
            "(3, 3)\n",
            "(11, 11)\n",
            "(3, 3)\n"
          ],
          "name": "stdout"
        }
      ]
    }
  ]
}